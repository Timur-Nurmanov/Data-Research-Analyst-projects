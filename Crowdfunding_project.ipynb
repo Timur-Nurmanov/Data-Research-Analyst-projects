{
 "cells": [
  {
   "cell_type": "markdown",
   "id": "6633ff41",
   "metadata": {},
   "source": [
    "# Crowdfunding data sets"
   ]
  },
  {
   "cell_type": "markdown",
   "id": "fccc1276",
   "metadata": {},
   "source": [
    "[The Crowdfunding Offerings Data Sets](https://www.sec.gov/dera/data/crowdfunding-offerings-data-sets) provide the structured data from crowdfunding offering statements, updates, annual reports, and terminations filed with the Commission. \n",
    "\n",
    "Particularly I was interested in files \"FORM_C_ISSUER_INFORMATION\", \"FORM_C_DISCLOSURE\", and \"FORM_C_SUBMISSION\". I used Pandas library in order to merge tables by taking *accession_number* as a key column and concantenate them together, so the data would be inside a one sigle excel document."
   ]
  },
  {
   "cell_type": "code",
   "execution_count": 1,
   "id": "09ece03b",
   "metadata": {},
   "outputs": [],
   "source": [
    "# import our libraries\n",
    "import requests\n",
    "import time\n",
    "import datetime\n",
    "import pandas as pd\n",
    "import numpy as np"
   ]
  },
  {
   "cell_type": "markdown",
   "id": "d0b59832",
   "metadata": {},
   "source": [
    "## Merge dataframes by *ACCESSION_NUMBER*"
   ]
  },
  {
   "cell_type": "markdown",
   "id": "abdc45f0",
   "metadata": {},
   "source": [
    "The code below picks up all \"FORM_C_ISSUER_INFORMATION\", \"FORM_C_DISCLOSURE\", and \"FORM_C_SUBMISSION\" files and meges them by using *accession_number* as key column. Then saves it as new excel file, also adding 2 more columns of *Year* and *Quarter*."
   ]
  },
  {
   "cell_type": "code",
   "execution_count": 67,
   "id": "eb9867b8",
   "metadata": {},
   "outputs": [
    {
     "name": "stdout",
     "output_type": "stream",
     "text": [
      "Task complete\n"
     ]
    }
   ],
   "source": [
    "year = [i for i in range(2016,2023)]\n",
    "quarter = 1\n",
    "\n",
    "for y in range(len(year)):\n",
    "    \n",
    "    # The data starts from second quarter of year 2016, so I had to make an exception here\n",
    "    if year[y] == 2016:\n",
    "        quarter = 2\n",
    "    else:\n",
    "        quarter = 1\n",
    "        \n",
    "    try:\n",
    "        # By the time of writing this code, only report for first quarter is available\n",
    "        if year[y] == 2022:\n",
    "            quarter = 1\n",
    "            string = str(year[y])+'Q'+str(quarter)+'_cf'\n",
    "        \n",
    "            df_info = pd.read_csv('CrowdFunding/'+string+'/FORM_C_ISSUER_INFORMATION.tsv', sep = '\\t')\n",
    "            df_dis = pd.read_csv('CrowdFunding/'+string+'/FORM_C_DISCLOSURE.tsv', sep = '\\t')\n",
    "            df_sub = pd.read_csv('CrowdFunding/'+string+'/FORM_C_SUBMISSION.tsv', sep = '\\t')\n",
    "            \n",
    "            df_all = pd.merge(df_info, df_dis, on='ACCESSION_NUMBER')\n",
    "            df_all = pd.merge(df_all, df_sub, on='ACCESSION_NUMBER')\n",
    "            df_all['Year'] = year[y]\n",
    "            df_all['Quarter'] = 'Q'+str(quarter)\n",
    "        \n",
    "            df_all.to_excel('CrowdFunding_merged/'+string+'.xlsx')\n",
    "            \n",
    "        else:\n",
    "            while quarter != 5:\n",
    "                string = str(year[y])+'Q'+str(quarter)+'_cf'\n",
    "        \n",
    "                df_info = pd.read_csv('CrowdFunding/'+string+'/FORM_C_ISSUER_INFORMATION.tsv', sep = '\\t')\n",
    "                df_dis = pd.read_csv('CrowdFunding/'+string+'/FORM_C_DISCLOSURE.tsv', sep = '\\t')\n",
    "                df_sub = pd.read_csv('CrowdFunding/'+string+'/FORM_C_SUBMISSION.tsv', sep = '\\t')\n",
    "            \n",
    "                df_all = pd.merge(df_info, df_dis, on='ACCESSION_NUMBER')\n",
    "                df_all = pd.merge(df_all, df_sub, on='ACCESSION_NUMBER')\n",
    "                df_all['Year'] = year[y]\n",
    "                df_all['Quarter'] = 'Q'+str(quarter)\n",
    "        \n",
    "                df_all.to_excel('CrowdFunding_merged/'+string+'.xlsx')\n",
    "                quarter += 1\n",
    "        \n",
    "    except FileNotFoundError:\n",
    "        break\n",
    "\n",
    "\n",
    "print('Task complete')        "
   ]
  },
  {
   "cell_type": "markdown",
   "id": "8455cc5c",
   "metadata": {},
   "source": [
    "## Concatenate them quarterly by year"
   ]
  },
  {
   "cell_type": "markdown",
   "id": "dece39df",
   "metadata": {},
   "source": [
    "Since three major files are merged, now I can concantenate each quarter file into a whole year."
   ]
  },
  {
   "cell_type": "code",
   "execution_count": 68,
   "id": "810e9626",
   "metadata": {},
   "outputs": [
    {
     "name": "stdout",
     "output_type": "stream",
     "text": [
      "Task complete\n"
     ]
    }
   ],
   "source": [
    "year = [i for i in range(2016, 2023)]\n",
    "quarter = 1\n",
    "\n",
    "for y in range(len(year)):\n",
    "    if year[y] == 2016:\n",
    "        quarter = 2\n",
    "        string = str(year[y])+'Q'+str(quarter)+'_cf'\n",
    "        df2 = pd.read_excel('CrowdFunding_merged/'+string+'.xlsx')\n",
    "        del df2['Unnamed: 0']\n",
    "    \n",
    "        quarter += 1\n",
    "        string = str(year[y])+'Q'+str(quarter)+'_cf'\n",
    "        df3 = pd.read_excel('CrowdFunding_merged/'+string+'.xlsx')\n",
    "        del df3['Unnamed: 0']\n",
    "        \n",
    "        quarter += 1\n",
    "        string = str(year[y])+'Q'+str(quarter)+'_cf'\n",
    "        df4 = pd.read_excel('CrowdFunding_merged/'+string+'.xlsx')\n",
    "        del df4['Unnamed: 0']\n",
    "        \n",
    "        df_whole = pd.concat([df2, df3], axis = 0, ignore_index = True)\n",
    "        df_whole = pd.concat([df_whole, df4], axis = 0, ignore_index = True)\n",
    "    \n",
    "        df_whole.to_excel('CrowdFunding_merged/'+str(year[y])+'_cf'+'.xlsx', index = False)\n",
    "\n",
    "        \n",
    "    elif year[y] == 2022:\n",
    "        quarter = 1\n",
    "        string = str(year[y])+'Q'+str(quarter)+'_cf'\n",
    "        df1 = pd.read_excel('CrowdFunding_merged/'+string+'.xlsx')\n",
    "        del df1['Unnamed: 0']\n",
    "        \n",
    "        df_whole = df1\n",
    "        df_whole.to_excel('CrowdFunding_merged/'+str(year[y])+'_cf'+'.xlsx', index = False)\n",
    "\n",
    "        \n",
    "    else:\n",
    "        quarter = 1\n",
    "        string = str(year[y])+'Q'+str(quarter)+'_cf'\n",
    "        df1 = pd.read_excel('CrowdFunding_merged/'+string+'.xlsx')\n",
    "        del df1['Unnamed: 0']\n",
    "\n",
    "        quarter += 1\n",
    "        string = str(year[y])+'Q'+str(quarter)+'_cf'\n",
    "        df2 = pd.read_excel('CrowdFunding_merged/'+string+'.xlsx')\n",
    "        del df2['Unnamed: 0']\n",
    "    \n",
    "        quarter += 1\n",
    "        string = str(year[y])+'Q'+str(quarter)+'_cf'\n",
    "        df3 = pd.read_excel('CrowdFunding_merged/'+string+'.xlsx')\n",
    "        del df3['Unnamed: 0']\n",
    "    \n",
    "        quarter += 1\n",
    "        string = str(year[y])+'Q'+str(quarter)+'_cf'\n",
    "        df4 = pd.read_excel('CrowdFunding_merged/'+string+'.xlsx')\n",
    "        del df4['Unnamed: 0']\n",
    "    \n",
    "        df_whole = pd.concat([df1, df2], axis = 0, ignore_index = True)\n",
    "        df_whole = pd.concat([df_whole, df3], axis = 0, ignore_index = True)\n",
    "        df_whole = pd.concat([df_whole, df4], axis = 0, ignore_index = True)\n",
    "    \n",
    "        df_whole.to_excel('CrowdFunding_merged/'+str(year[y])+'_cf'+'.xlsx', index = False)\n",
    "\n",
    "print('Task complete')"
   ]
  },
  {
   "cell_type": "markdown",
   "id": "9d8afe6f",
   "metadata": {},
   "source": [
    "## Concatenate all into one"
   ]
  },
  {
   "cell_type": "markdown",
   "id": "11f6f9b9",
   "metadata": {},
   "source": [
    "At last concatenate each yearly file into single file.xlsx"
   ]
  },
  {
   "cell_type": "code",
   "execution_count": 69,
   "id": "c409bd3d",
   "metadata": {},
   "outputs": [
    {
     "name": "stdout",
     "output_type": "stream",
     "text": [
      "Task complete\n"
     ]
    }
   ],
   "source": [
    "year = [i for i in range(2016, 2023)]\n",
    "\n",
    "df1 = pd.read_excel('CrowdFunding_merged/2016_cf.xlsx')\n",
    "df2 = pd.read_excel('CrowdFunding_merged/2017_cf.xlsx')\n",
    "df3 = pd.read_excel('CrowdFunding_merged/2018_cf.xlsx')\n",
    "df4 = pd.read_excel('CrowdFunding_merged/2019_cf.xlsx')\n",
    "df5 = pd.read_excel('CrowdFunding_merged/2020_cf.xlsx')\n",
    "df6 = pd.read_excel('CrowdFunding_merged/2021_cf.xlsx')\n",
    "df7 = pd.read_excel('CrowdFunding_merged/2022_cf.xlsx')\n",
    "\n",
    "df_whole = pd.concat([df1, df2], axis = 0, ignore_index = True)\n",
    "df_whole = pd.concat([df_whole, df3], axis = 0, ignore_index = True)\n",
    "df_whole = pd.concat([df_whole, df4], axis = 0, ignore_index = True)\n",
    "df_whole = pd.concat([df_whole, df5], axis = 0, ignore_index = True)\n",
    "df_whole = pd.concat([df_whole, df6], axis = 0, ignore_index = True)\n",
    "df_whole = pd.concat([df_whole, df7], axis = 0, ignore_index = True)\n",
    "\n",
    "df_whole.to_excel('CrowdFunding_merged/2016-2022_cf.xlsx', index = False)\n",
    "\n",
    "print('Task complete')"
   ]
  }
 ],
 "metadata": {
  "kernelspec": {
   "display_name": "Python 3",
   "language": "python",
   "name": "python3"
  },
  "language_info": {
   "codemirror_mode": {
    "name": "ipython",
    "version": 3
   },
   "file_extension": ".py",
   "mimetype": "text/x-python",
   "name": "python",
   "nbconvert_exporter": "python",
   "pygments_lexer": "ipython3",
   "version": "3.8.8"
  }
 },
 "nbformat": 4,
 "nbformat_minor": 5
}
